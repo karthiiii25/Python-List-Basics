{
 "cells": [
  {
   "cell_type": "markdown",
   "id": "cfdc2750",
   "metadata": {},
   "source": [
    "# LIST"
   ]
  },
  {
   "cell_type": "markdown",
   "id": "24265824",
   "metadata": {},
   "source": [
    "# multipyling each num"
   ]
  },
  {
   "cell_type": "code",
   "execution_count": 3,
   "id": "833ce4b4",
   "metadata": {},
   "outputs": [
    {
     "name": "stdout",
     "output_type": "stream",
     "text": [
      "125\n",
      "216\n",
      "512\n"
     ]
    }
   ],
   "source": [
    "list=[5,6,8]\n",
    "for i in  list:\n",
    "    print(i**3)\n",
    "list2=[i**3 for i in list]"
   ]
  },
  {
   "cell_type": "code",
   "execution_count": 2,
   "id": "a5e02cf4",
   "metadata": {},
   "outputs": [
    {
     "data": {
      "text/plain": [
       "[125, 216, 512]"
      ]
     },
     "execution_count": 2,
     "metadata": {},
     "output_type": "execute_result"
    }
   ],
   "source": [
    "list2"
   ]
  },
  {
   "cell_type": "markdown",
   "id": "ddf3aa53",
   "metadata": {},
   "source": [
    "# remove()"
   ]
  },
  {
   "cell_type": "code",
   "execution_count": 4,
   "id": "4a687e3e",
   "metadata": {},
   "outputs": [],
   "source": [
    "list1=[\"karthika\",\"karthi\",\"kar\"]\n",
    "while \"kar\" in list1:\n",
    "    list1.remove(\"kar\")"
   ]
  },
  {
   "cell_type": "code",
   "execution_count": 5,
   "id": "1a7cc060",
   "metadata": {},
   "outputs": [
    {
     "data": {
      "text/plain": [
       "['karthika', 'karthi']"
      ]
     },
     "execution_count": 5,
     "metadata": {},
     "output_type": "execute_result"
    }
   ],
   "source": [
    "list1"
   ]
  },
  {
   "cell_type": "markdown",
   "id": "04d187b1",
   "metadata": {},
   "source": [
    "# indexing or slicing"
   ]
  },
  {
   "cell_type": "code",
   "execution_count": 6,
   "id": "4743c888",
   "metadata": {},
   "outputs": [
    {
     "data": {
      "text/plain": [
       "[66, 88, 55]"
      ]
     },
     "execution_count": 6,
     "metadata": {},
     "output_type": "execute_result"
    }
   ],
   "source": [
    "list1=[66,88,55,452,5677]\n",
    "list1[0:3]"
   ]
  },
  {
   "cell_type": "code",
   "execution_count": 7,
   "id": "f4bdad90",
   "metadata": {},
   "outputs": [
    {
     "data": {
      "text/plain": [
       "[66, 55, 5677]"
      ]
     },
     "execution_count": 7,
     "metadata": {},
     "output_type": "execute_result"
    }
   ],
   "source": [
    "list1[0:6:2]"
   ]
  },
  {
   "cell_type": "markdown",
   "id": "41d49626",
   "metadata": {},
   "source": [
    "# nested list"
   ]
  },
  {
   "cell_type": "code",
   "execution_count": 9,
   "id": "0ead069e",
   "metadata": {},
   "outputs": [
    {
     "data": {
      "text/plain": [
       "[88, 9567, 56]"
      ]
     },
     "execution_count": 9,
     "metadata": {},
     "output_type": "execute_result"
    }
   ],
   "source": [
    "list1=[34,65,[88,9567,56],78]\n",
    "list1[2]"
   ]
  },
  {
   "cell_type": "code",
   "execution_count": 10,
   "id": "f8a2f577",
   "metadata": {},
   "outputs": [
    {
     "data": {
      "text/plain": [
       "[88, 9567, 56]"
      ]
     },
     "execution_count": 10,
     "metadata": {},
     "output_type": "execute_result"
    }
   ],
   "source": [
    "list1[2][0:]"
   ]
  },
  {
   "cell_type": "markdown",
   "id": "c2bd433b",
   "metadata": {},
   "source": [
    "# del with index value"
   ]
  },
  {
   "cell_type": "code",
   "execution_count": 13,
   "id": "e9f1ea23",
   "metadata": {},
   "outputs": [],
   "source": [
    "list1=[23,25,26,28,29]\n",
    "del list1[2]"
   ]
  },
  {
   "cell_type": "code",
   "execution_count": 14,
   "id": "2d9c8c5b",
   "metadata": {},
   "outputs": [
    {
     "data": {
      "text/plain": [
       "[23, 25, 28, 29]"
      ]
     },
     "execution_count": 14,
     "metadata": {},
     "output_type": "execute_result"
    }
   ],
   "source": [
    "list1"
   ]
  },
  {
   "cell_type": "markdown",
   "id": "6af59125",
   "metadata": {},
   "source": [
    "# max,min,sum,sorted"
   ]
  },
  {
   "cell_type": "code",
   "execution_count": 16,
   "id": "fdda4e57",
   "metadata": {},
   "outputs": [
    {
     "data": {
      "text/plain": [
       "29"
      ]
     },
     "execution_count": 16,
     "metadata": {},
     "output_type": "execute_result"
    }
   ],
   "source": [
    "max(list1)\n"
   ]
  },
  {
   "cell_type": "code",
   "execution_count": 17,
   "id": "2d4059db",
   "metadata": {},
   "outputs": [
    {
     "data": {
      "text/plain": [
       "23"
      ]
     },
     "execution_count": 17,
     "metadata": {},
     "output_type": "execute_result"
    }
   ],
   "source": [
    "min(list1)"
   ]
  },
  {
   "cell_type": "code",
   "execution_count": 18,
   "id": "05bc7e8a",
   "metadata": {},
   "outputs": [
    {
     "data": {
      "text/plain": [
       "105"
      ]
     },
     "execution_count": 18,
     "metadata": {},
     "output_type": "execute_result"
    }
   ],
   "source": [
    "sum(list1)"
   ]
  },
  {
   "cell_type": "code",
   "execution_count": 19,
   "id": "6b71784a",
   "metadata": {},
   "outputs": [
    {
     "data": {
      "text/plain": [
       "[23, 25, 28, 29]"
      ]
     },
     "execution_count": 19,
     "metadata": {},
     "output_type": "execute_result"
    }
   ],
   "source": [
    "sorted(list1)"
   ]
  },
  {
   "cell_type": "markdown",
   "id": "c948bf4c",
   "metadata": {},
   "source": [
    "# removing empty space"
   ]
  },
  {
   "cell_type": "code",
   "execution_count": 20,
   "id": "555e2f4a",
   "metadata": {},
   "outputs": [],
   "source": [
    "list1=[\"karthika\",\"kar\",\" \",\"karthi\"]"
   ]
  },
  {
   "cell_type": "code",
   "execution_count": 21,
   "id": "7c114142",
   "metadata": {},
   "outputs": [
    {
     "data": {
      "text/plain": [
       "['karthika', 'kar', ' ', 'karthi']"
      ]
     },
     "execution_count": 21,
     "metadata": {},
     "output_type": "execute_result"
    }
   ],
   "source": [
    "list1"
   ]
  },
  {
   "cell_type": "markdown",
   "id": "a56ffbf4",
   "metadata": {},
   "source": [
    "# count()"
   ]
  },
  {
   "cell_type": "code",
   "execution_count": 23,
   "id": "24053871",
   "metadata": {},
   "outputs": [],
   "source": [
    "list1=[100,200,300,400,1000,120,320,240,100]"
   ]
  },
  {
   "cell_type": "code",
   "execution_count": 24,
   "id": "2732d7d0",
   "metadata": {},
   "outputs": [
    {
     "data": {
      "text/plain": [
       "1"
      ]
     },
     "execution_count": 24,
     "metadata": {},
     "output_type": "execute_result"
    }
   ],
   "source": [
    "list1.count(300)"
   ]
  },
  {
   "cell_type": "markdown",
   "id": "55e13421",
   "metadata": {},
   "source": [
    "# updating values"
   ]
  },
  {
   "cell_type": "code",
   "execution_count": 25,
   "id": "3dd9c86d",
   "metadata": {},
   "outputs": [
    {
     "name": "stdout",
     "output_type": "stream",
     "text": [
      "enter index value to update:3\n"
     ]
    }
   ],
   "source": [
    "ind=int(input(\"enter index value to update:\")) \n",
    "list1[ind]=100\n",
    "#updationthroughindex"
   ]
  },
  {
   "cell_type": "code",
   "execution_count": 26,
   "id": "943fd065",
   "metadata": {},
   "outputs": [
    {
     "data": {
      "text/plain": [
       "[100, 200, 300, 100, 1000, 120, 320, 240, 100]"
      ]
     },
     "execution_count": 26,
     "metadata": {},
     "output_type": "execute_result"
    }
   ],
   "source": [
    "list1"
   ]
  },
  {
   "cell_type": "markdown",
   "id": "3cc3c2e8",
   "metadata": {},
   "source": [
    "# length()"
   ]
  },
  {
   "cell_type": "code",
   "execution_count": 3,
   "id": "7f1eda6e",
   "metadata": {},
   "outputs": [
    {
     "data": {
      "text/plain": [
       "5"
      ]
     },
     "execution_count": 3,
     "metadata": {},
     "output_type": "execute_result"
    }
   ],
   "source": [
    "list1=[3,4,6,6,7,]\n",
    "len(list1)"
   ]
  },
  {
   "cell_type": "markdown",
   "id": "c3de2fe1",
   "metadata": {},
   "source": [
    "# append()"
   ]
  },
  {
   "cell_type": "code",
   "execution_count": 4,
   "id": "e2d431cf",
   "metadata": {},
   "outputs": [],
   "source": [
    "list1=[1,3,4,5,6]\n",
    "list1.append(2)"
   ]
  },
  {
   "cell_type": "code",
   "execution_count": 5,
   "id": "e17914ce",
   "metadata": {},
   "outputs": [
    {
     "data": {
      "text/plain": [
       "[1, 3, 4, 5, 6, 2]"
      ]
     },
     "execution_count": 5,
     "metadata": {},
     "output_type": "execute_result"
    }
   ],
   "source": [
    "list1"
   ]
  },
  {
   "cell_type": "markdown",
   "id": "38a5dbea",
   "metadata": {},
   "source": [
    "# insert()"
   ]
  },
  {
   "cell_type": "code",
   "execution_count": 6,
   "id": "9b67639e",
   "metadata": {},
   "outputs": [],
   "source": [
    "list1=[56,783,75]\n",
    "list1.insert(2,35)"
   ]
  },
  {
   "cell_type": "code",
   "execution_count": 7,
   "id": "8840b49c",
   "metadata": {},
   "outputs": [
    {
     "data": {
      "text/plain": [
       "[56, 783, 35, 75]"
      ]
     },
     "execution_count": 7,
     "metadata": {},
     "output_type": "execute_result"
    }
   ],
   "source": [
    "list1"
   ]
  },
  {
   "cell_type": "markdown",
   "id": "d7740417",
   "metadata": {},
   "source": [
    "# reverse()"
   ]
  },
  {
   "cell_type": "code",
   "execution_count": 8,
   "id": "0812f1f4",
   "metadata": {},
   "outputs": [],
   "source": [
    "list1.reverse()"
   ]
  },
  {
   "cell_type": "code",
   "execution_count": 9,
   "id": "3190b12c",
   "metadata": {},
   "outputs": [
    {
     "data": {
      "text/plain": [
       "[75, 35, 783, 56]"
      ]
     },
     "execution_count": 9,
     "metadata": {},
     "output_type": "execute_result"
    }
   ],
   "source": [
    "list1"
   ]
  },
  {
   "cell_type": "markdown",
   "id": "6be351c5",
   "metadata": {},
   "source": [
    "# getting input from the user"
   ]
  },
  {
   "cell_type": "code",
   "execution_count": 11,
   "id": "a8913243",
   "metadata": {},
   "outputs": [
    {
     "name": "stdout",
     "output_type": "stream",
     "text": [
      "enter the number of elements:4\n",
      "0\n",
      "enter the number:8\n",
      "1\n",
      "enter the number:9\n",
      "2\n",
      "enter the number:6\n",
      "3\n",
      "enter the number:5\n",
      "['8', '9', '6', '5']\n"
     ]
    }
   ],
   "source": [
    "list=[]\n",
    "count=int(input(\"enter the number of elements:\"))\n",
    "for i in range(count):\n",
    "    print(i)\n",
    "    list.append(input(\"enter the number:\"))\n",
    "print(list)"
   ]
  },
  {
   "cell_type": "raw",
   "id": "7dedf447",
   "metadata": {},
   "source": [
    "write a program that creates a list then create two list odd list and even list that has all odd and even values in the list repectively."
   ]
  },
  {
   "cell_type": "code",
   "execution_count": 14,
   "id": "e98976cc",
   "metadata": {},
   "outputs": [
    {
     "name": "stdout",
     "output_type": "stream",
     "text": [
      "enter the number:23\n",
      "enter the number:25\n",
      "enter the number:22\n",
      "[23, 25, 22]\n",
      "odd list [23, 25]\n",
      "even list [22]\n"
     ]
    }
   ],
   "source": [
    "list=[]\n",
    "count=3\n",
    "for i in range(count):\n",
    "    list.append(int(input(\"enter the number:\")))\n",
    "print(list)\n",
    "odd=[]\n",
    "even=[]\n",
    "for i in range(len(list)):\n",
    "    if(list[i]%2==0):\n",
    "        even.append(list[i])\n",
    "    else:\n",
    "        odd.append(list[i])\n",
    "print(\"odd list\",odd)\n",
    "print(\"even list\",even)"
   ]
  },
  {
   "cell_type": "raw",
   "id": "5c0f7843",
   "metadata": {},
   "source": [
    "positive or negative"
   ]
  },
  {
   "cell_type": "code",
   "execution_count": 17,
   "id": "45732814",
   "metadata": {},
   "outputs": [
    {
     "name": "stdout",
     "output_type": "stream",
     "text": [
      "enter the number:-6\n",
      "enter the number:-6\n",
      "enter the number:7\n",
      "[-6, -6, 7]\n",
      "positive list [7]\n",
      "negative list [-6, -6]\n"
     ]
    }
   ],
   "source": [
    "list=[]\n",
    "count=3\n",
    "for i in range(count):\n",
    "    list.append(int(input(\"enter the number:\")))\n",
    "print(list)\n",
    "positive=[]\n",
    "negative=[]\n",
    "for i in range(len(list)):\n",
    "    if(list[i]>0):\n",
    "        positive.append(list[i])\n",
    "    else:\n",
    "        negative.append(list[i])\n",
    "print(\"positive list\",positive)\n",
    "print(\"negative list\",negative)"
   ]
  },
  {
   "cell_type": "raw",
   "id": "65b18a08",
   "metadata": {},
   "source": [
    "multiply of 5"
   ]
  },
  {
   "cell_type": "code",
   "execution_count": 20,
   "id": "c4db6435",
   "metadata": {},
   "outputs": [
    {
     "name": "stdout",
     "output_type": "stream",
     "text": [
      "enter the number:45\n",
      "enter the number:78\n",
      "enter the number:90\n",
      "[45, 78, 90]\n",
      "multiply of 5 [45, 90]\n"
     ]
    }
   ],
   "source": [
    "list=[]\n",
    "count=3\n",
    "for i in range(count):\n",
    "    list.append(int(input(\"enter the number:\")))\n",
    "print(list)\n",
    "mul5=[]\n",
    "for i in range(len(list)):\n",
    "    if(list[i]%5==0):\n",
    "        mul5.append(list[i])\n",
    "print(\"multiply of 5\",mul5)\n"
   ]
  },
  {
   "cell_type": "code",
   "execution_count": 37,
   "id": "fdd219af",
   "metadata": {},
   "outputs": [
    {
     "name": "stdout",
     "output_type": "stream",
     "text": [
      "enter a value to search:python\n",
      "python present at the index 1\n"
     ]
    }
   ],
   "source": [
    "l=[\"c\",\"python\"]\n",
    "s=input(\"enter a value to search:\")\n",
    "for i in range(len(l)):\n",
    "    if(l[i]==s):\n",
    "        print(\"python present at the index\",i)\n",
    "    \n",
    "                \n",
    "            \n",
    "            \n",
    "        \n",
    "               \n",
    "    \n",
    "\n",
    "   \n",
    "     \n",
    "    \n",
    " \n",
    "  "
   ]
  },
  {
   "cell_type": "code",
   "execution_count": 46,
   "id": "ed8dd991",
   "metadata": {},
   "outputs": [
    {
     "name": "stdout",
     "output_type": "stream",
     "text": [
      "['p', 'c', 'j']\n"
     ]
    }
   ],
   "source": [
    "list=[\"python\",\"c\",\"java\"]\n",
    "list1=[list[i][0]for i in range (len(list))]\n",
    "print(list1)\n",
    "    \n",
    "    \n",
    "    \n",
    "   \n",
    "\n",
    "\n"
   ]
  },
  {
   "cell_type": "code",
   "execution_count": 47,
   "id": "6cc1dcde",
   "metadata": {},
   "outputs": [
    {
     "data": {
      "text/plain": [
       "'j'"
      ]
     },
     "execution_count": 47,
     "metadata": {},
     "output_type": "execute_result"
    }
   ],
   "source": [
    "list[2][0]"
   ]
  }
 ],
 "metadata": {
  "kernelspec": {
   "display_name": "Python 3 (ipykernel)",
   "language": "python",
   "name": "python3"
  },
  "language_info": {
   "codemirror_mode": {
    "name": "ipython",
    "version": 3
   },
   "file_extension": ".py",
   "mimetype": "text/x-python",
   "name": "python",
   "nbconvert_exporter": "python",
   "pygments_lexer": "ipython3",
   "version": "3.9.7"
  }
 },
 "nbformat": 4,
 "nbformat_minor": 5
}
